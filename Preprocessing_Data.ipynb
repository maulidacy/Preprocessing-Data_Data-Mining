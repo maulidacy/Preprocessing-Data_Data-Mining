{
  "nbformat": 4,
  "nbformat_minor": 0,
  "metadata": {
    "colab": {
      "provenance": [],
      "authorship_tag": "ABX9TyOMG84uFNjLePWgRcoI4U8i",
      "include_colab_link": true
    },
    "kernelspec": {
      "name": "python3",
      "display_name": "Python 3"
    },
    "language_info": {
      "name": "python"
    }
  },
  "cells": [
    {
      "cell_type": "markdown",
      "metadata": {
        "id": "view-in-github",
        "colab_type": "text"
      },
      "source": [
        "<a href=\"https://colab.research.google.com/github/maulidacy/Preprocessing-Data_Data-Mining/blob/main/Preprocessing_Data.ipynb\" target=\"_parent\"><img src=\"https://colab.research.google.com/assets/colab-badge.svg\" alt=\"Open In Colab\"/></a>"
      ]
    },
    {
      "cell_type": "markdown",
      "source": [
        "# Import Libraries"
      ],
      "metadata": {
        "id": "N-sZL7iuHpTz"
      }
    },
    {
      "cell_type": "code",
      "execution_count": 66,
      "metadata": {
        "id": "cFpEQlPeVz25"
      },
      "outputs": [],
      "source": [
        "# pandas & numpy buat olah data\n",
        "# sklearn buat preprocessing, encoding, scaling, dan split data\n",
        "import pandas as pd\n",
        "import numpy as np\n",
        "\n",
        "from sklearn.model_selection import train_test_split\n",
        "from sklearn.preprocessing import OneHotEncoder, StandardScaler\n",
        "from sklearn.compose import ColumnTransformer"
      ]
    },
    {
      "cell_type": "markdown",
      "source": [
        "# Load Dataset"
      ],
      "metadata": {
        "id": "1ib1gFkrFDmH"
      }
    },
    {
      "cell_type": "code",
      "source": [
        "# Dataset ada di UCI, link langsung ke file crx.data\n",
        "url = \"https://archive.ics.uci.edu/ml/machine-learning-databases/credit-screening/crx.data\"\n",
        "\n",
        "# Nama kolom sesuai dokumentasi UCI (A1..A15 = fitur, Class = target)\n",
        "cols = [f\"A{i}\" for i in range(1,16)] + [\"Class\"]\n",
        "\n",
        "# Baca dataset. Tanda '?' dianggap missing value (NaN)\n",
        "df = pd.read_csv(url, header=None, names=cols, na_values='?')\n",
        "\n",
        "# Cek ukuran data, beberapa baris awal, dan jumlah missing\n",
        "print(\"Ukuran dataset:\", df.shape)\n",
        "print(\"\\n5 baris pertama:\")\n",
        "print(df.head())\n",
        "print(\"\\nJumlah missing value per kolom:\")\n",
        "print(df.isna().sum())"
      ],
      "metadata": {
        "colab": {
          "base_uri": "https://localhost:8080/"
        },
        "id": "ZU7_dPtgFEMh",
        "outputId": "e48319e3-d8c3-4592-9121-ab076fef1071"
      },
      "execution_count": 67,
      "outputs": [
        {
          "output_type": "stream",
          "name": "stdout",
          "text": [
            "Ukuran dataset: (690, 16)\n",
            "\n",
            "5 baris pertama:\n",
            "  A1     A2     A3 A4 A5 A6 A7    A8 A9 A10  A11 A12 A13    A14  A15 Class\n",
            "0  b  30.83  0.000  u  g  w  v  1.25  t   t    1   f   g  202.0    0     +\n",
            "1  a  58.67  4.460  u  g  q  h  3.04  t   t    6   f   g   43.0  560     +\n",
            "2  a  24.50  0.500  u  g  q  h  1.50  t   f    0   f   g  280.0  824     +\n",
            "3  b  27.83  1.540  u  g  w  v  3.75  t   t    5   t   g  100.0    3     +\n",
            "4  b  20.17  5.625  u  g  w  v  1.71  t   f    0   f   s  120.0    0     +\n",
            "\n",
            "Jumlah missing value per kolom:\n",
            "A1       12\n",
            "A2       12\n",
            "A3        0\n",
            "A4        6\n",
            "A5        6\n",
            "A6        9\n",
            "A7        9\n",
            "A8        0\n",
            "A9        0\n",
            "A10       0\n",
            "A11       0\n",
            "A12       0\n",
            "A13       0\n",
            "A14      13\n",
            "A15       0\n",
            "Class     0\n",
            "dtype: int64\n"
          ]
        }
      ]
    },
    {
      "cell_type": "markdown",
      "source": [
        "# Handle Missing Values"
      ],
      "metadata": {
        "id": "FV298YjlFYXk"
      }
    },
    {
      "cell_type": "code",
      "source": [
        "# Di dataset ini ada beberapa kolom yang numerik dan sisanya kategorikal\n",
        "numeric_cols = [\"A2\",\"A3\",\"A8\",\"A11\",\"A14\",\"A15\"]\n",
        "categorical_cols = [c for c in df.columns if c not in numeric_cols + [\"Class\"]]\n",
        "\n",
        "# Kadang kolom numerik kebaca string, jadi dipaksa ke float\n",
        "for col in numeric_cols:\n",
        "    df[col] = pd.to_numeric(df[col], errors='coerce')\n",
        "\n",
        "print(\"Missing value sebelum imputasi:\\n\", df.isna().sum())\n",
        "\n",
        "# Isi missing: numerik -> median (biar tahan sama outlier)\n",
        "# kategorikal -> modus (nilai yg paling sering muncul)\n",
        "for col in numeric_cols:\n",
        "    df[col] = df[col].fillna(df[col].median())\n",
        "\n",
        "for col in categorical_cols:\n",
        "    df[col] = df[col].fillna(df[col].mode()[0])\n",
        "\n",
        "print(\"\\nMissing value sesudah imputasi:\\n\", df.isna().sum())"
      ],
      "metadata": {
        "colab": {
          "base_uri": "https://localhost:8080/"
        },
        "id": "lvqFoIP8YbNn",
        "outputId": "1ac8d885-40a9-41fa-af47-86fdbe231fbf"
      },
      "execution_count": 68,
      "outputs": [
        {
          "output_type": "stream",
          "name": "stdout",
          "text": [
            "Missing value sebelum imputasi:\n",
            " A1       12\n",
            "A2       12\n",
            "A3        0\n",
            "A4        6\n",
            "A5        6\n",
            "A6        9\n",
            "A7        9\n",
            "A8        0\n",
            "A9        0\n",
            "A10       0\n",
            "A11       0\n",
            "A12       0\n",
            "A13       0\n",
            "A14      13\n",
            "A15       0\n",
            "Class     0\n",
            "dtype: int64\n",
            "\n",
            "Missing value sesudah imputasi:\n",
            " A1       0\n",
            "A2       0\n",
            "A3       0\n",
            "A4       0\n",
            "A5       0\n",
            "A6       0\n",
            "A7       0\n",
            "A8       0\n",
            "A9       0\n",
            "A10      0\n",
            "A11      0\n",
            "A12      0\n",
            "A13      0\n",
            "A14      0\n",
            "A15      0\n",
            "Class    0\n",
            "dtype: int64\n"
          ]
        }
      ]
    },
    {
      "cell_type": "markdown",
      "source": [
        "# Handle Outlier"
      ],
      "metadata": {
        "id": "mnAsXF8LFkpB"
      }
    },
    {
      "cell_type": "code",
      "source": [
        "# Outlier dibatasi pake metode IQR (interquartile range)\n",
        "# Jadi kita ambil Q1, Q3, terus nilai yg kelewat jauh dipotong ke batas bawah/atas\n",
        "for col in numeric_cols:\n",
        "    q1 = df[col].quantile(0.25)\n",
        "    q3 = df[col].quantile(0.75)\n",
        "    iqr = q3 - q1\n",
        "    lower = q1 - 1.5 * iqr\n",
        "    upper = q3 + 1.5 * iqr\n",
        "    before_outliers = ((df[col] < lower) | (df[col] > upper)).sum()\n",
        "    df[col] = np.clip(df[col], lower, upper)  # nilai ekstrim dipotong\n",
        "    after_outliers = ((df[col] < lower) | (df[col] > upper)).sum()\n",
        "    print(f\"{col}: {before_outliers} nilai dicap, tersisa {after_outliers} outlier\")"
      ],
      "metadata": {
        "colab": {
          "base_uri": "https://localhost:8080/"
        },
        "id": "X6LrqGEmFooK",
        "outputId": "8e0d4a5f-e3b1-4a3f-9844-35fb0a6a7169"
      },
      "execution_count": 69,
      "outputs": [
        {
          "output_type": "stream",
          "name": "stdout",
          "text": [
            "A2: 18 nilai dicap, tersisa 0 outlier\n",
            "A3: 17 nilai dicap, tersisa 0 outlier\n",
            "A8: 63 nilai dicap, tersisa 0 outlier\n",
            "A11: 79 nilai dicap, tersisa 0 outlier\n",
            "A14: 13 nilai dicap, tersisa 0 outlier\n",
            "A15: 113 nilai dicap, tersisa 0 outlier\n"
          ]
        }
      ]
    },
    {
      "cell_type": "markdown",
      "source": [
        "# Split Data Train & Test"
      ],
      "metadata": {
        "id": "d9gkjpsOFtqt"
      }
    },
    {
      "cell_type": "code",
      "source": [
        "# Target (Class) berisi '+' dan '-', diubah jadi angka agar lebih mudah diproses\n",
        "# '+' artinya approved (1), '-' artinya rejected (0)\n",
        "y = df[\"Class\"].map({\"+\":1, \"-\":0})\n",
        "X = df.drop(columns=[\"Class\"])\n",
        "\n",
        "# Bagi dataset jadi 80% train, 20% test\n",
        "# stratify=y agar proporsi kelas seimbang antara train dan test\n",
        "X_train, X_test, y_train, y_test = train_test_split(\n",
        "    X, y, test_size=0.2, random_state=42, stratify=y\n",
        ")\n",
        "\n",
        "print(\"Ukuran data train:\", X_train.shape)\n",
        "print(\"Ukuran data test :\", X_test.shape)\n",
        "print(\"Distribusi kelas (train):\")\n",
        "print(y_train.value_counts(normalize=True))"
      ],
      "metadata": {
        "colab": {
          "base_uri": "https://localhost:8080/"
        },
        "id": "jvtZGgZrFxj8",
        "outputId": "03c079be-8aef-4b70-9d81-1ff4882a78be"
      },
      "execution_count": 70,
      "outputs": [
        {
          "output_type": "stream",
          "name": "stdout",
          "text": [
            "Ukuran data train: (552, 15)\n",
            "Ukuran data test : (138, 15)\n",
            "Distribusi kelas (train):\n",
            "Class\n",
            "0    0.554348\n",
            "1    0.445652\n",
            "Name: proportion, dtype: float64\n"
          ]
        }
      ]
    },
    {
      "cell_type": "markdown",
      "source": [
        "# Encode Categorical & Scale Numeric Features"
      ],
      "metadata": {
        "id": "yg2Jm5t7F5V2"
      }
    },
    {
      "cell_type": "code",
      "source": [
        "# Supaya data bisa dipakai model ML, kita encode kolom kategorikal jadi angka\n",
        "# (pakai one-hot encoding). Sementara kolom numerik kita standarkan biar skalanya seragam.\n",
        "# StandardScaler bikin rata-rata = 0, std = 1\n",
        "preprocessor = ColumnTransformer(\n",
        "    transformers=[\n",
        "        (\"num\", StandardScaler(), numeric_cols),\n",
        "        (\"cat\", OneHotEncoder(drop=\"first\", handle_unknown=\"ignore\"), categorical_cols)\n",
        "    ]\n",
        ")\n",
        "\n",
        "# Fit pakai train, terus transform ke train & test\n",
        "X_train_proc = preprocessor.fit_transform(X_train)\n",
        "X_test_proc = preprocessor.transform(X_test)\n",
        "\n",
        "print(\"Shape setelah preprocessing (train):\", X_train_proc.shape)\n",
        "print(\"Shape setelah preprocessing (test) :\", X_test_proc.shape)\n",
        "\n",
        "# Liat 5 baris pertama hasil preprocessing\n",
        "print(\"\\nPreview 5 baris pertama (array):\")\n",
        "print(X_train_proc[:5].toarray() if hasattr(X_train_proc, \"toarray\") else X_train_proc[:5])"
      ],
      "metadata": {
        "colab": {
          "base_uri": "https://localhost:8080/"
        },
        "id": "aTZXVJWfF7Ki",
        "outputId": "320d153c-2a46-4efb-c5a1-c557886bd6b0"
      },
      "execution_count": 71,
      "outputs": [
        {
          "output_type": "stream",
          "name": "stdout",
          "text": [
            "Shape setelah preprocessing (train): (552, 37)\n",
            "Shape setelah preprocessing (test) : (138, 37)\n",
            "\n",
            "Preview 5 baris pertama (array):\n",
            "[[-0.46914938  0.87158219 -0.17371658 -0.68058115 -0.11090688 -0.25207941\n",
            "   0.          1.          0.          0.          0.          0.\n",
            "   0.          0.          0.          0.          0.          0.\n",
            "   0.          0.          0.          0.          0.          0.\n",
            "   0.          0.          0.          0.          0.          0.\n",
            "   1.          0.          1.          0.          0.          0.\n",
            "   0.        ]\n",
            " [-0.21320063 -0.92300003 -0.73737193 -0.68058115  0.30812527 -0.27884697\n",
            "   1.          1.          0.          0.          0.          1.\n",
            "   0.          0.          0.          0.          0.          0.\n",
            "   0.          0.          0.          0.          0.          0.\n",
            "   0.          0.          0.          0.          0.          0.\n",
            "   1.          0.          0.          0.          0.          0.\n",
            "   0.        ]\n",
            " [-0.94229409 -0.89594059 -0.38164278 -0.68058115  0.58748003 -0.65359287\n",
            "   0.          0.          1.          0.          1.          0.\n",
            "   0.          0.          1.          0.          0.          0.\n",
            "   0.          0.          0.          0.          0.          0.\n",
            "   1.          0.          0.          0.          0.          0.\n",
            "   0.          0.          0.          0.          0.          0.\n",
            "   0.        ]\n",
            " [-0.82152953  1.62058756  0.78825521  0.05568694  0.0287705  -0.19051401\n",
            "   1.          1.          0.          0.          0.          1.\n",
            "   0.          0.          0.          0.          0.          0.\n",
            "   0.          0.          0.          0.          0.          0.\n",
            "   0.          0.          0.          0.          0.          0.\n",
            "   1.          0.          0.          1.          1.          0.\n",
            "   0.        ]\n",
            " [ 2.07681974  0.45703153  0.43252606  2.08042419 -1.22832593  0.10660594\n",
            "   1.          1.          0.          0.          0.          1.\n",
            "   0.          0.          0.          0.          0.          0.\n",
            "   0.          0.          0.          0.          0.          0.\n",
            "   0.          0.          1.          0.          0.          0.\n",
            "   0.          0.          1.          1.          1.          0.\n",
            "   0.        ]]\n"
          ]
        }
      ]
    }
  ]
}