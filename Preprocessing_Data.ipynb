{
  "nbformat": 4,
  "nbformat_minor": 0,
  "metadata": {
    "colab": {
      "provenance": [],
      "authorship_tag": "ABX9TyM6UYZQLNlU2xlChI9eP+Gd",
      "include_colab_link": true
    },
    "kernelspec": {
      "name": "python3",
      "display_name": "Python 3"
    },
    "language_info": {
      "name": "python"
    }
  },
  "cells": [
    {
      "cell_type": "markdown",
      "metadata": {
        "id": "view-in-github",
        "colab_type": "text"
      },
      "source": [
        "<a href=\"https://colab.research.google.com/github/maulidacy/Preprocessing-Data_Data-Mining/blob/main/Preprocessing_Data.ipynb\" target=\"_parent\"><img src=\"https://colab.research.google.com/assets/colab-badge.svg\" alt=\"Open In Colab\"/></a>"
      ]
    },
    {
      "cell_type": "code",
      "execution_count": 1,
      "metadata": {
        "id": "cFpEQlPeVz25"
      },
      "outputs": [],
      "source": [
        "import os\n",
        "import sys\n",
        "import json\n",
        "import numpy as np\n",
        "import pandas as pd\n",
        "\n",
        "from sklearn.model_selection import train_test_split\n",
        "from sklearn.compose import ColumnTransformer\n",
        "from sklearn.pipeline import Pipeline\n",
        "from sklearn.preprocessing import OneHotEncoder, StandardScaler\n",
        "from sklearn.impute import SimpleImputer\n",
        "from sklearn.feature_selection import mutual_info_classif\n"
      ]
    },
    {
      "cell_type": "markdown",
      "source": [
        "# LOAD DATASET"
      ],
      "metadata": {
        "id": "1ib1gFkrFDmH"
      }
    },
    {
      "cell_type": "code",
      "source": [
        "# ------------------------------\n",
        "# 1) LOAD DATASET\n",
        "# ------------------------------\n",
        "# Kolom sesuai dokumentasi UCI (16 kolom: 15 fitur + 1 label)\n",
        "COLUMN_NAMES = [\n",
        "    \"A1\",\"A2\",\"A3\",\"A4\",\"A5\",\"A6\",\"A7\",\"A8\",\"A9\",\"A10\",\"A11\",\"A12\",\"A13\",\"A14\",\"A15\",\"label\"\n",
        "]\n",
        "\n",
        "# Lokasi file lokal & URL UCI resmi\n",
        "LOCAL_FILE = \"crx.data\"\n",
        "UCI_URL = \"https://archive.ics.uci.edu/ml/machine-learning-databases/credit-screening/crx.data\"\n",
        "\n",
        "def load_dataset():\n",
        "    \"\"\"Load dataset dari lokal jika ada, jika tidak coba unduh dari UCI.\n",
        "       Tanda missing pada file ini adalah '?' yang akan diubah menjadi NaN.\n",
        "    \"\"\"\n",
        "    try:\n",
        "        if os.path.exists(LOCAL_FILE):\n",
        "            df = pd.read_csv(LOCAL_FILE, header=None, names=COLUMN_NAMES, na_values='?')\n",
        "        else:\n",
        "            df = pd.read_csv(UCI_URL, header=None, names=COLUMN_NAMES, na_values='?')\n",
        "    except Exception as e:\n",
        "        print(\"[ERROR] Gagal memuat dataset. Pastikan file 'crx.data' ada di direktori kerja atau koneksi internet tersedia.\")\n",
        "        print(\"Detail:\", e)\n",
        "        sys.exit(1)\n",
        "    return df\n",
        "\n",
        "df = load_dataset()\n"
      ],
      "metadata": {
        "id": "ZU7_dPtgFEMh"
      },
      "execution_count": 2,
      "outputs": []
    }
  ]
}