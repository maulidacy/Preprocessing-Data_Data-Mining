{
  "nbformat": 4,
  "nbformat_minor": 0,
  "metadata": {
    "colab": {
      "provenance": [],
      "authorship_tag": "ABX9TyP0AIIk/oZn+i1vRruKjE9G",
      "include_colab_link": true
    },
    "kernelspec": {
      "name": "python3",
      "display_name": "Python 3"
    },
    "language_info": {
      "name": "python"
    }
  },
  "cells": [
    {
      "cell_type": "markdown",
      "metadata": {
        "id": "view-in-github",
        "colab_type": "text"
      },
      "source": [
        "<a href=\"https://colab.research.google.com/github/maulidacy/Preprocessing-Data_Data-Mining/blob/main/Preprocessing_Data.ipynb\" target=\"_parent\"><img src=\"https://colab.research.google.com/assets/colab-badge.svg\" alt=\"Open In Colab\"/></a>"
      ]
    },
    {
      "cell_type": "code",
      "execution_count": 1,
      "metadata": {
        "id": "cFpEQlPeVz25"
      },
      "outputs": [],
      "source": [
        "import os\n",
        "import sys\n",
        "import json\n",
        "import numpy as np\n",
        "import pandas as pd\n",
        "\n",
        "from sklearn.model_selection import train_test_split\n",
        "from sklearn.compose import ColumnTransformer\n",
        "from sklearn.pipeline import Pipeline\n",
        "from sklearn.preprocessing import OneHotEncoder, StandardScaler\n",
        "from sklearn.impute import SimpleImputer\n",
        "from sklearn.feature_selection import mutual_info_classif\n"
      ]
    },
    {
      "cell_type": "markdown",
      "source": [
        "# LOAD DATASET"
      ],
      "metadata": {
        "id": "1ib1gFkrFDmH"
      }
    },
    {
      "cell_type": "code",
      "source": [
        "# ------------------------------\n",
        "# 1) LOAD DATASET\n",
        "# ------------------------------\n",
        "# Kolom sesuai dokumentasi UCI (16 kolom: 15 fitur + 1 label)\n",
        "COLUMN_NAMES = [\n",
        "    \"A1\",\"A2\",\"A3\",\"A4\",\"A5\",\"A6\",\"A7\",\"A8\",\"A9\",\"A10\",\"A11\",\"A12\",\"A13\",\"A14\",\"A15\",\"label\"\n",
        "]\n",
        "\n",
        "# Lokasi file lokal & URL UCI resmi\n",
        "LOCAL_FILE = \"crx.data\"\n",
        "UCI_URL = \"https://archive.ics.uci.edu/ml/machine-learning-databases/credit-screening/crx.data\"\n",
        "\n",
        "def load_dataset():\n",
        "    \"\"\"Load dataset dari lokal jika ada, jika tidak coba unduh dari UCI.\n",
        "       Tanda missing pada file ini adalah '?' yang akan diubah menjadi NaN.\n",
        "    \"\"\"\n",
        "    try:\n",
        "        if os.path.exists(LOCAL_FILE):\n",
        "            df = pd.read_csv(LOCAL_FILE, header=None, names=COLUMN_NAMES, na_values='?')\n",
        "        else:\n",
        "            df = pd.read_csv(UCI_URL, header=None, names=COLUMN_NAMES, na_values='?')\n",
        "    except Exception as e:\n",
        "        print(\"[ERROR] Gagal memuat dataset. Pastikan file 'crx.data' ada di direktori kerja atau koneksi internet tersedia.\")\n",
        "        print(\"Detail:\", e)\n",
        "        sys.exit(1)\n",
        "    return df\n",
        "\n",
        "df = load_dataset()\n"
      ],
      "metadata": {
        "id": "ZU7_dPtgFEMh"
      },
      "execution_count": 2,
      "outputs": []
    },
    {
      "cell_type": "markdown",
      "source": [
        "# EKSPLORASI DATA SINGKAT (EDA)"
      ],
      "metadata": {
        "id": "FV298YjlFYXk"
      }
    },
    {
      "cell_type": "code",
      "source": [
        "# ------------------------------\n",
        "# 2) EKSPLORASI DATA SINGKAT (EDA)\n",
        "# ------------------------------\n",
        "print(\"\\n=== SHAPE DATA ===\")\n",
        "print(df.shape)\n",
        "\n",
        "print(\"\\n=== 5 BARIS PERTAMA ===\")\n",
        "print(df.head())\n",
        "\n",
        "print(\"\\n=== INFO DATA ===\")\n",
        "print(df.info())\n",
        "\n",
        "print(\"\\n=== JUMLAH MISSING PER KOLOM ===\")\n",
        "print(df.isna().sum())\n",
        "\n",
        "# Ringkasan statistik numerik saja (setelah coba coerce ke numeric untuk lihat gambaran awal)\n",
        "numeric_preview = df.copy()\n",
        "for col in [\"A2\",\"A3\",\"A8\",\"A11\",\"A14\",\"A15\"]:\n",
        "    numeric_preview[col] = pd.to_numeric(numeric_preview[col], errors='coerce')\n",
        "print(\"\\n=== DESKRIPSI NUMERIK (preview) ===\")\n",
        "print(numeric_preview[[\"A2\",\"A3\",\"A8\",\"A11\",\"A14\",\"A15\"]].describe())\n"
      ],
      "metadata": {
        "colab": {
          "base_uri": "https://localhost:8080/"
        },
        "id": "RBdFgwkwFfOD",
        "outputId": "93128aa5-59e0-442b-cd26-a19b21265ba0"
      },
      "execution_count": 3,
      "outputs": [
        {
          "output_type": "stream",
          "name": "stdout",
          "text": [
            "\n",
            "=== SHAPE DATA ===\n",
            "(690, 16)\n",
            "\n",
            "=== 5 BARIS PERTAMA ===\n",
            "  A1     A2     A3 A4 A5 A6 A7    A8 A9 A10  A11 A12 A13    A14  A15 label\n",
            "0  b  30.83  0.000  u  g  w  v  1.25  t   t    1   f   g  202.0    0     +\n",
            "1  a  58.67  4.460  u  g  q  h  3.04  t   t    6   f   g   43.0  560     +\n",
            "2  a  24.50  0.500  u  g  q  h  1.50  t   f    0   f   g  280.0  824     +\n",
            "3  b  27.83  1.540  u  g  w  v  3.75  t   t    5   t   g  100.0    3     +\n",
            "4  b  20.17  5.625  u  g  w  v  1.71  t   f    0   f   s  120.0    0     +\n",
            "\n",
            "=== INFO DATA ===\n",
            "<class 'pandas.core.frame.DataFrame'>\n",
            "RangeIndex: 690 entries, 0 to 689\n",
            "Data columns (total 16 columns):\n",
            " #   Column  Non-Null Count  Dtype  \n",
            "---  ------  --------------  -----  \n",
            " 0   A1      678 non-null    object \n",
            " 1   A2      678 non-null    float64\n",
            " 2   A3      690 non-null    float64\n",
            " 3   A4      684 non-null    object \n",
            " 4   A5      684 non-null    object \n",
            " 5   A6      681 non-null    object \n",
            " 6   A7      681 non-null    object \n",
            " 7   A8      690 non-null    float64\n",
            " 8   A9      690 non-null    object \n",
            " 9   A10     690 non-null    object \n",
            " 10  A11     690 non-null    int64  \n",
            " 11  A12     690 non-null    object \n",
            " 12  A13     690 non-null    object \n",
            " 13  A14     677 non-null    float64\n",
            " 14  A15     690 non-null    int64  \n",
            " 15  label   690 non-null    object \n",
            "dtypes: float64(4), int64(2), object(10)\n",
            "memory usage: 86.4+ KB\n",
            "None\n",
            "\n",
            "=== JUMLAH MISSING PER KOLOM ===\n",
            "A1       12\n",
            "A2       12\n",
            "A3        0\n",
            "A4        6\n",
            "A5        6\n",
            "A6        9\n",
            "A7        9\n",
            "A8        0\n",
            "A9        0\n",
            "A10       0\n",
            "A11       0\n",
            "A12       0\n",
            "A13       0\n",
            "A14      13\n",
            "A15       0\n",
            "label     0\n",
            "dtype: int64\n",
            "\n",
            "=== DESKRIPSI NUMERIK (preview) ===\n",
            "               A2          A3          A8        A11          A14  \\\n",
            "count  678.000000  690.000000  690.000000  690.00000   677.000000   \n",
            "mean    31.568171    4.758725    2.223406    2.40000   184.014771   \n",
            "std     11.957862    4.978163    3.346513    4.86294   173.806768   \n",
            "min     13.750000    0.000000    0.000000    0.00000     0.000000   \n",
            "25%     22.602500    1.000000    0.165000    0.00000    75.000000   \n",
            "50%     28.460000    2.750000    1.000000    0.00000   160.000000   \n",
            "75%     38.230000    7.207500    2.625000    3.00000   276.000000   \n",
            "max     80.250000   28.000000   28.500000   67.00000  2000.000000   \n",
            "\n",
            "                 A15  \n",
            "count     690.000000  \n",
            "mean     1017.385507  \n",
            "std      5210.102598  \n",
            "min         0.000000  \n",
            "25%         0.000000  \n",
            "50%         5.000000  \n",
            "75%       395.500000  \n",
            "max    100000.000000  \n"
          ]
        }
      ]
    },
    {
      "cell_type": "markdown",
      "source": [
        "# PERSIAPAN TARGET & TIPE KOLOM"
      ],
      "metadata": {
        "id": "mnAsXF8LFkpB"
      }
    },
    {
      "cell_type": "code",
      "source": [
        "# ------------------------------\n",
        "# 3) PERSIAPAN TARGET & TIPE KOLOM\n",
        "# ------------------------------\n",
        "# Label: '+' (approved) -> 1, '-' (rejected) -> 0\n",
        "df['label'] = df['label'].map({'+': 1, '-': 0})\n",
        "\n",
        "# Tetapkan kolom numerik & kategorikal sesuai dokumentasi\n",
        "numeric_features = [\"A2\",\"A3\",\"A8\",\"A11\",\"A14\",\"A15\"]\n",
        "categorical_features = [c for c in df.columns if c not in numeric_features + ['label']]\n",
        "\n",
        "# Pastikan kolom numerik bertipe float\n",
        "for col in numeric_features:\n",
        "    df[col] = pd.to_numeric(df[col], errors='coerce')\n"
      ],
      "metadata": {
        "id": "X6LrqGEmFooK"
      },
      "execution_count": 4,
      "outputs": []
    },
    {
      "cell_type": "markdown",
      "source": [
        "# SPLIT DATA (sebelum transformasi, agar tidak bocor)"
      ],
      "metadata": {
        "id": "d9gkjpsOFtqt"
      }
    },
    {
      "cell_type": "code",
      "source": [
        "# ------------------------------\n",
        "# 4) SPLIT DATA (sebelum transformasi, agar tidak bocor)\n",
        "# ------------------------------\n",
        "X = df.drop(columns=['label'])\n",
        "y = df['label']\n",
        "\n",
        "X_train, X_test, y_train, y_test = train_test_split(\n",
        "    X, y, test_size=0.2, random_state=42, stratify=y\n",
        ")\n",
        "\n",
        "print(\"\\n=== SHAPE SPLIT ===\")\n",
        "print(\"X_train:\", X_train.shape, \"X_test:\", X_test.shape)\n",
        "print(\"y_train:\", y_train.shape, \"y_test:\", y_test.shape)\n"
      ],
      "metadata": {
        "colab": {
          "base_uri": "https://localhost:8080/"
        },
        "id": "jvtZGgZrFxj8",
        "outputId": "def18b5e-af6a-49de-908c-b7d0abceaf9c"
      },
      "execution_count": 5,
      "outputs": [
        {
          "output_type": "stream",
          "name": "stdout",
          "text": [
            "\n",
            "=== SHAPE SPLIT ===\n",
            "X_train: (552, 15) X_test: (138, 15)\n",
            "y_train: (552,) y_test: (138,)\n"
          ]
        }
      ]
    },
    {
      "cell_type": "markdown",
      "source": [
        "# PIPELINE PREPROCESSING"
      ],
      "metadata": {
        "id": "yg2Jm5t7F5V2"
      }
    },
    {
      "cell_type": "code",
      "source": [
        "# ------------------------------\n",
        "# 5) PIPELINE PREPROCESSING\n",
        "# ------------------------------\n",
        "# - Numerik: imputasi median + standard scaler\n",
        "# - Kategorikal: imputasi modus + one-hot encoding\n",
        "numeric_transformer = Pipeline(steps=[\n",
        "    ('imputer', SimpleImputer(strategy='median')),\n",
        "    ('scaler', StandardScaler())\n",
        "])\n",
        "\n",
        "categorical_transformer = Pipeline(steps=[\n",
        "    ('imputer', SimpleImputer(strategy='most_frequent')),\n",
        "    ('onehot', OneHotEncoder(handle_unknown='ignore', sparse_output=False))\n",
        "])\n",
        "\n",
        "preprocessor = ColumnTransformer(\n",
        "    transformers=[\n",
        "        ('num', numeric_transformer, numeric_features),\n",
        "        ('cat', categorical_transformer, categorical_features)\n",
        "    ],\n",
        "    remainder='drop'\n",
        ")\n",
        "\n",
        "# Fit transform pada train, transform pada test\n",
        "X_train_prep = preprocessor.fit_transform(X_train)\n",
        "X_test_prep  = preprocessor.transform(X_test)\n",
        "\n",
        "print(\"\\n=== SHAPE SETELAH PREPROCESSING ===\")\n",
        "print(\"X_train_prep:\", X_train_prep.shape, \"X_test_prep:\", X_test_prep.shape)\n"
      ],
      "metadata": {
        "colab": {
          "base_uri": "https://localhost:8080/"
        },
        "id": "aTZXVJWfF7Ki",
        "outputId": "a4caa9f3-a93f-44f0-a4f5-7c210e2354e9"
      },
      "execution_count": 6,
      "outputs": [
        {
          "output_type": "stream",
          "name": "stdout",
          "text": [
            "\n",
            "=== SHAPE SETELAH PREPROCESSING ===\n",
            "X_train_prep: (552, 46) X_test_prep: (138, 46)\n"
          ]
        }
      ]
    },
    {
      "cell_type": "markdown",
      "source": [
        "# FEATURE SELECTION SEDERHANA (Opsional)"
      ],
      "metadata": {
        "id": "Wm8C7YpFGEF2"
      }
    },
    {
      "cell_type": "code",
      "source": [
        "# ------------------------------\n",
        "# 6) (OPSIONAL) FEATURE SELECTION SEDERHANA\n",
        "# ------------------------------\n",
        "# Contoh: pilih fitur terbaik berdasarkan mutual information.\n",
        "# Ambil top_k = min(20, jumlah fitur) agar aman.\n",
        "n_features = X_train_prep.shape[1]\n",
        "top_k = min(20, n_features)\n",
        "\n",
        "mi_scores = mutual_info_classif(X_train_prep, y_train, random_state=42)\n",
        "# Indeks fitur berdasarkan skor MI (descending)\n",
        "top_idx = np.argsort(mi_scores)[::-1][:top_k]\n",
        "\n",
        "X_train_sel = X_train_prep[:, top_idx]\n",
        "X_test_sel  = X_test_prep[:, top_idx]\n",
        "\n",
        "print(\"\\n=== FEATURE SELECTION ===\")\n",
        "print(f\"Total fitur setelah OHE: {n_features}\")\n",
        "print(f\"Ambil TOP-{top_k} fitur berdasarkan Mutual Information.\")\n",
        "print(\"Shape terpilih:\", X_train_sel.shape, X_test_sel.shape)\n"
      ],
      "metadata": {
        "colab": {
          "base_uri": "https://localhost:8080/"
        },
        "id": "nPqnT__jGKKl",
        "outputId": "03dfd4a4-0f89-40e6-e28e-67863785dd2d"
      },
      "execution_count": 7,
      "outputs": [
        {
          "output_type": "stream",
          "name": "stdout",
          "text": [
            "\n",
            "=== FEATURE SELECTION ===\n",
            "Total fitur setelah OHE: 46\n",
            "Ambil TOP-20 fitur berdasarkan Mutual Information.\n",
            "Shape terpilih: (552, 20) (138, 20)\n"
          ]
        }
      ]
    },
    {
      "cell_type": "markdown",
      "source": [
        "# SIMPAN HASIL (opsional, memudahkan latihan)"
      ],
      "metadata": {
        "id": "kfrWpyaBGRZN"
      }
    },
    {
      "cell_type": "code",
      "source": [
        "# ------------------------------\n",
        "# 7) SIMPAN HASIL (opsional, memudahkan latihan)\n",
        "# ------------------------------\n",
        "outdir = \"preprocessed_output\"\n",
        "os.makedirs(outdir, exist_ok=True)\n",
        "\n",
        "np.save(os.path.join(outdir, \"X_train_prep.npy\"), X_train_prep)\n",
        "np.save(os.path.join(outdir, \"X_test_prep.npy\"),  X_test_prep)\n",
        "np.save(os.path.join(outdir, \"X_train_sel.npy\"),  X_train_sel)\n",
        "np.save(os.path.join(outdir, \"X_test_sel.npy\"),   X_test_sel)\n",
        "y_train.to_csv(os.path.join(outdir, \"y_train.csv\"), index=False)\n",
        "y_test.to_csv(os.path.join(outdir, \"y_test.csv\"), index=False)\n",
        "\n",
        "# Simpan metadata kolom untuk referensi (fitur numerik, kategorikal, dan indeks fitur terpilih)\n",
        "meta = {\n",
        "    \"numeric_features\": numeric_features,\n",
        "    \"categorical_features\": categorical_features,\n",
        "    \"selected_feature_indices\": top_idx.tolist(),\n",
        "    \"train_shape_after_preprocessing\": list(X_train_prep.shape),\n",
        "    \"test_shape_after_preprocessing\": list(X_test_prep.shape)\n",
        "}\n",
        "with open(os.path.join(outdir, \"metadata.json\"), \"w\") as f:\n",
        "    json.dump(meta, f, indent=2)\n",
        "\n",
        "print(\"\\nSelesai. File hasil preprocessing disimpan ke folder:\", outdir)"
      ],
      "metadata": {
        "colab": {
          "base_uri": "https://localhost:8080/"
        },
        "id": "1JM72oEhGTMZ",
        "outputId": "95b494b7-306e-49b2-afa6-1813b325b3fc"
      },
      "execution_count": 9,
      "outputs": [
        {
          "output_type": "stream",
          "name": "stdout",
          "text": [
            "\n",
            "Selesai. File hasil preprocessing disimpan ke folder: preprocessed_output\n"
          ]
        }
      ]
    }
  ]
}